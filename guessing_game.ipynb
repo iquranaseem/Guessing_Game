{
 "cells": [
  {
   "attachments": {},
   "cell_type": "markdown",
   "metadata": {},
   "source": [
    "# ***guessing game***"
   ]
  },
  {
   "cell_type": "code",
   "execution_count": 26,
   "metadata": {},
   "outputs": [
    {
     "name": "stdout",
     "output_type": "stream",
     "text": [
      "Please guess a higher number. You have 4 guesses left.\n",
      "Please guess a higher number. You have 3 guesses left.\n",
      "Please guess a higher number. You have 2 guesses left.\n",
      "You have guessed the correct number, well done.\n"
     ]
    }
   ],
   "source": [
    "import random\n",
    "\n",
    "number = random.randint(1, 101)\n",
    "guesses = 5\n",
    "\n",
    "\n",
    "while guesses > 0:\n",
    "    your_guess = int(input(\"Guess a number habibi: \"))\n",
    "    if number == your_guess:\n",
    "        print(\"You have guessed the correct number, well done.\")\n",
    "        break \n",
    "    elif number > your_guess:\n",
    "        guesses -=1\n",
    "        print(\"Please guess a higher number. You have\", guesses, \"guesses left.\")\n",
    "    else:\n",
    "        guesses -=1\n",
    "        print(\"Please guess a lower number. You have\", guesses, \"guesses left.\")\n",
    "\n",
    "        \n",
    "if guesses == 0:\n",
    "    print(\"You did not guess\", number)"
   ]
  }
 ],
 "metadata": {
  "kernelspec": {
   "display_name": "Python 3",
   "language": "python",
   "name": "python3"
  },
  "language_info": {
   "codemirror_mode": {
    "name": "ipython",
    "version": 3
   },
   "file_extension": ".py",
   "mimetype": "text/x-python",
   "name": "python",
   "nbconvert_exporter": "python",
   "pygments_lexer": "ipython3",
   "version": "3.9.13"
  },
  "orig_nbformat": 4
 },
 "nbformat": 4,
 "nbformat_minor": 2
}
